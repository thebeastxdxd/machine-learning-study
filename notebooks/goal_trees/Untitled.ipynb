{
 "cells": [
  {
   "cell_type": "code",
   "execution_count": 1,
   "metadata": {
    "collapsed": true
   },
   "outputs": [],
   "source": [
    "import collections"
   ]
  },
  {
   "cell_type": "markdown",
   "metadata": {},
   "source": [
    "# put on\n",
    "### findspace\n",
    "### grasp\n",
    "### move\n",
    "### ungrasp"
   ]
  },
  {
   "cell_type": "markdown",
   "metadata": {},
   "source": [
    "#### clear top\n",
    "#### get rid of"
   ]
  },
  {
   "cell_type": "code",
   "execution_count": 8,
   "metadata": {
    "collapsed": true
   },
   "outputs": [],
   "source": [
    "Rectangle = collections.namedtuple('Rectangle',['Name', 'Width', 'Height', 'Color'])"
   ]
  },
  {
   "cell_type": "code",
   "execution_count": 11,
   "metadata": {},
   "outputs": [
    {
     "data": {
      "text/plain": [
       "Rectangle(Name='b1', Width=15, Height=16, Color='red')"
      ]
     },
     "execution_count": 11,
     "metadata": {},
     "output_type": "execute_result"
    }
   ],
   "source": [
    "rect = Rectangle('b1', 15,16,'red')\n",
    "rect"
   ]
  },
  {
   "cell_type": "markdown",
   "metadata": {},
   "source": [
    "i need to create a base for the rectangles, and save them so that it would be easy to check for spaces, my first idea is a stack\n",
    "but then how would i check for widths... "
   ]
  },
  {
   "cell_type": "code",
   "execution_count": null,
   "metadata": {
    "collapsed": true
   },
   "outputs": [],
   "source": [
    "class Rectangle:\n",
    "    def __init__(name, width, height, color):\n",
    "        self.name = name\n",
    "        self.width = width\n",
    "        self.height = height\n",
    "        self.color = color\n",
    "        self.above_rects = []\n",
    "        self.spilled_rect = 0\n",
    "    def place_rect_above(rect):\n",
    "        if(rect.width <= self.width):\n",
    "                   "
   ]
  }
 ],
 "metadata": {
  "kernelspec": {
   "display_name": "Python 3",
   "language": "python",
   "name": "python3"
  },
  "language_info": {
   "codemirror_mode": {
    "name": "ipython",
    "version": 3
   },
   "file_extension": ".py",
   "mimetype": "text/x-python",
   "name": "python",
   "nbconvert_exporter": "python",
   "pygments_lexer": "ipython3",
   "version": "3.6.1"
  }
 },
 "nbformat": 4,
 "nbformat_minor": 2
}
