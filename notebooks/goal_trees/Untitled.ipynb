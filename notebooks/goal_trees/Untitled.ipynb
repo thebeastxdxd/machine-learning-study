{
 "cells": [
  {
   "cell_type": "code",
   "execution_count": 300,
   "metadata": {
    "collapsed": true
   },
   "outputs": [],
   "source": [
    "import collections\n",
    "import itertools,operator"
   ]
  },
  {
   "cell_type": "markdown",
   "metadata": {},
   "source": [
    "# put on\n",
    "### findspace\n",
    "### grasp\n",
    "### move\n",
    "### ungrasp"
   ]
  },
  {
   "cell_type": "markdown",
   "metadata": {},
   "source": [
    "#### clear top\n",
    "#### get rid of"
   ]
  },
  {
   "cell_type": "code",
   "execution_count": 8,
   "metadata": {
    "collapsed": true
   },
   "outputs": [],
   "source": [
    "Rectangle = collections.namedtuple('Rectangle',['Name', 'Width', 'Height', 'Color'])"
   ]
  },
  {
   "cell_type": "code",
   "execution_count": 11,
   "metadata": {},
   "outputs": [
    {
     "data": {
      "text/plain": [
       "Rectangle(Name='b1', Width=15, Height=16, Color='red')"
      ]
     },
     "execution_count": 11,
     "metadata": {},
     "output_type": "execute_result"
    }
   ],
   "source": [
    "rect = Rectangle('b1', 15,16,'red')\n",
    "rect"
   ]
  },
  {
   "cell_type": "markdown",
   "metadata": {},
   "source": [
    "i need to create a base for the rectangles, and save them so that it would be easy to check for spaces, my first idea is a stack\n",
    "but then how would i check for widths... "
   ]
  },
  {
   "cell_type": "code",
   "execution_count": 445,
   "metadata": {},
   "outputs": [],
   "source": [
    "class Rectangle:\n",
    "    def __init__(self,name, width, height, color):\n",
    "        self.name = name\n",
    "        self.width = width\n",
    "        self.height = height\n",
    "        self.color = color\n",
    "        self.grid = Grid(width) \n",
    "    \n",
    "    def remove_rect(self, rect):\n",
    "        self.grid.remove_rect(rect)\n",
    "    def find_rect(self, way, rect_name):\n",
    "        way.append(self)\n",
    "        index = self.grid.find_rect_name(rect_name)\n",
    "        if index != -1:\n",
    "            way.append(self.grid[index])\n",
    "            return way\n",
    "        elif rect_name in list(map(lambda r: r.name, way)):\n",
    "            return way\n",
    "        else:\n",
    "            for r in self.grid:\n",
    "                if type(r) is Rectangle:\n",
    "                    temp_way = r.find_rect(list(way), rect_name)\n",
    "                    if rect_name in list(map(lambda r: r.name, temp_way)):\n",
    "                        way = temp_way\n",
    "                        break\n",
    "            return way\n",
    "    \n",
    "    def biggest_left_over_width(self):\n",
    "        return self.grid.biggest_width()\n",
    "    \n",
    "    def print_grid(self):\n",
    "        return str(self.grid)\n",
    "    def __repr__(self):\n",
    "        return 'Rectangle({},{},{},{})'.format(self.name,self.width,self.height,self.color)\n",
    "    "
   ]
  },
  {
   "cell_type": "code",
   "execution_count": 118,
   "metadata": {},
   "outputs": [
    {
     "name": "stdout",
     "output_type": "stream",
     "text": [
      "Rectangle(b1,3,2,red)\n"
     ]
    }
   ],
   "source": [
    "print(b1)"
   ]
  },
  {
   "cell_type": "code",
   "execution_count": 446,
   "metadata": {},
   "outputs": [],
   "source": [
    "class Grid:\n",
    "    def __init__(self, n):\n",
    "        self.grid = [0 for _ in range(n)]\n",
    "        \n",
    "    def __iter__(self):\n",
    "        return iter(self.grid)\n",
    "    \n",
    "    def __getitem__(self, i):\n",
    "        return self.grid[i]\n",
    "    \n",
    "    def __str__(self):\n",
    "        return('{}'.format(self.grid))\n",
    "    \n",
    "    def place_rect(self, rect, position):\n",
    "        if not self.position_empty(rect, position):\n",
    "            return False\n",
    "        \n",
    "        self.grid[position] = rect\n",
    "        for i in range(1, rect.width):\n",
    "            self.grid[position + i] = 1\n",
    "        \n",
    "        return True\n",
    "    def move_rect(self, rect, to_pos):\n",
    "        from_pos = self.find_rect(rect)\n",
    "        rect = self.grid[from_pos]\n",
    "        if (not self.position_empty(rect, to_pos)):\n",
    "            return False\n",
    "        for i in range(rect.width):\n",
    "            self.grid[from_pos + i] = 0\n",
    "        \n",
    "        self.place_rect(rect, to_pos)\n",
    "        return True\n",
    "   \n",
    "    def remove_rect(self, rect):\n",
    "        from_pos = self.find_rect(rect)\n",
    "        print('yo', rect, rect.width)\n",
    "        for i in range(rect.width):\n",
    "            print(from_pos)\n",
    "            self.grid[from_pos + i] = 0\n",
    "        print('ho', self.grid)\n",
    "    \n",
    "    def find_rect(self, rect):\n",
    "        for i, r in enumerate(self.grid):\n",
    "            if type(r) == Rectangle and r.name is rect.name:\n",
    "                return i \n",
    "        return -1\n",
    "    def find_rect_name(self, rect_name):\n",
    "        for i, r in enumerate(self.grid):\n",
    "            if type(r) == Rectangle and r.name is rect_name:\n",
    "                return i \n",
    "        return -1\n",
    "    \n",
    "    def biggest_width(self):\n",
    "        r = max((list(y) for (x,y) in itertools.groupby((enumerate(self.grid)), operator.itemgetter(1)) if x == 0), key=len)\n",
    "        return (r[-1][0] - r[0][0] +1), r[0][0]\n",
    "    def position_empty(self,rect, to_pos):\n",
    "        try:\n",
    "            for i in range(rect.width):\n",
    "                if (self.grid[to_pos + i] == rect):\n",
    "                    return True\n",
    "                if (self.grid[to_pos + i] != 0): \n",
    "                    return False\n",
    "            return True\n",
    "        except:\n",
    "            return False\n",
    "    "
   ]
  },
  {
   "cell_type": "code",
   "execution_count": 191,
   "metadata": {},
   "outputs": [
    {
     "name": "stdout",
     "output_type": "stream",
     "text": [
      "[0, 0, Rectangle(b1,2,2,red), 1, 0]\n"
     ]
    }
   ],
   "source": [
    "g = Grid(5)\n",
    "rect = Rectangle('b1', 2, 2, 'red')\n",
    "g.place_rect(rect, 2)\n",
    "print(g)"
   ]
  },
  {
   "cell_type": "code",
   "execution_count": 148,
   "metadata": {},
   "outputs": [
    {
     "data": {
      "text/plain": [
       "'[0, 0]'"
      ]
     },
     "execution_count": 148,
     "metadata": {},
     "output_type": "execute_result"
    }
   ],
   "source": [
    "rect.print_grid()"
   ]
  },
  {
   "cell_type": "code",
   "execution_count": 150,
   "metadata": {},
   "outputs": [
    {
     "data": {
      "text/plain": [
       "[<__main__.Grid at 0x14694025e48>]"
      ]
     },
     "execution_count": 150,
     "metadata": {},
     "output_type": "execute_result"
    }
   ],
   "source": [
    "rect.find_rect('a')"
   ]
  },
  {
   "cell_type": "code",
   "execution_count": 133,
   "metadata": {},
   "outputs": [
    {
     "name": "stdout",
     "output_type": "stream",
     "text": [
      "[Rectangle(b1,2,2,red), 1, 0, 0, 0]\n"
     ]
    }
   ],
   "source": [
    "g.move_rect(rect,0)\n",
    "print(g)"
   ]
  },
  {
   "cell_type": "code",
   "execution_count": 162,
   "metadata": {},
   "outputs": [
    {
     "data": {
      "text/plain": [
       "True"
      ]
     },
     "execution_count": 162,
     "metadata": {},
     "output_type": "execute_result"
    }
   ],
   "source": [
    "type(rect) is Rectangle"
   ]
  },
  {
   "cell_type": "code",
   "execution_count": 453,
   "metadata": {},
   "outputs": [
    {
     "data": {
      "text/plain": [
       "[Rectangle(b1,3,3,blue), Rectangle(c2,1,2,dick)]"
      ]
     },
     "execution_count": 453,
     "metadata": {},
     "output_type": "execute_result"
    }
   ],
   "source": [
    "table = Table(10)\n",
    "b1 = Rectangle('b2', 2, 2, 'red')\n",
    "b2 = Rectangle('b1', 3, 3, 'blue')\n",
    "c1 = Rectangle('c1', 1, 1, 'green')\n",
    "c4 = Rectangle('c4', 1, 1, 'green')\n",
    "c2 = Rectangle('c2', 1, 2, 'dick')\n",
    "table.grid.place_rect(b1, 0)\n",
    "table.grid.place_rect(b2,2)\n",
    "b1.grid.place_rect(c1,0)\n",
    "b2.grid.place_rect(c2,0)\n",
    "c1.grid.place_rect(c4, 0)\n",
    "table.find_rect('c2')"
   ]
  },
  {
   "cell_type": "code",
   "execution_count": 454,
   "metadata": {},
   "outputs": [
    {
     "name": "stdout",
     "output_type": "stream",
     "text": [
      "[Rectangle(b2,2,2,red), 1, Rectangle(b1,3,3,blue), 1, 1, 0, 0, 0, 0, 0]\n",
      "[Rectangle(table,10,1,black), Rectangle(b1,3,3,blue)] [Rectangle(table,10,1,black), Rectangle(b2,2,2,red)]\n"
     ]
    },
    {
     "ename": "TypeError",
     "evalue": "'bool' object is not iterable",
     "output_type": "error",
     "traceback": [
      "\u001b[1;31m---------------------------------------------------------------------------\u001b[0m",
      "\u001b[1;31mTypeError\u001b[0m                                 Traceback (most recent call last)",
      "\u001b[1;32m<ipython-input-454-c600c468de9b>\u001b[0m in \u001b[0;36m<module>\u001b[1;34m()\u001b[0m\n\u001b[0;32m      1\u001b[0m \u001b[0mprint\u001b[0m\u001b[1;33m(\u001b[0m\u001b[0mtable\u001b[0m\u001b[1;33m.\u001b[0m\u001b[0mgrid\u001b[0m\u001b[1;33m)\u001b[0m\u001b[1;33m\u001b[0m\u001b[0m\n\u001b[1;32m----> 2\u001b[1;33m \u001b[0mtable\u001b[0m\u001b[1;33m.\u001b[0m\u001b[0mput_on\u001b[0m\u001b[1;33m(\u001b[0m\u001b[1;34m'b1'\u001b[0m\u001b[1;33m,\u001b[0m \u001b[1;34m'b2'\u001b[0m\u001b[1;33m)\u001b[0m\u001b[1;33m\u001b[0m\u001b[0m\n\u001b[0m\u001b[0;32m      3\u001b[0m \u001b[0mprint\u001b[0m\u001b[1;33m(\u001b[0m\u001b[0mtable\u001b[0m\u001b[1;33m.\u001b[0m\u001b[0mgrid\u001b[0m\u001b[1;33m)\u001b[0m\u001b[1;33m\u001b[0m\u001b[0m\n",
      "\u001b[1;32m<ipython-input-433-a3fd22628cb1>\u001b[0m in \u001b[0;36mput_on\u001b[1;34m(self, rect_name_from, rect_name_on)\u001b[0m\n\u001b[0;32m     13\u001b[0m         \u001b[0mrect_on\u001b[0m \u001b[1;33m=\u001b[0m \u001b[0mself\u001b[0m\u001b[1;33m.\u001b[0m\u001b[0mrec_name_on_way\u001b[0m\u001b[1;33m[\u001b[0m\u001b[1;33m-\u001b[0m\u001b[1;36m1\u001b[0m\u001b[1;33m]\u001b[0m\u001b[1;33m\u001b[0m\u001b[0m\n\u001b[0;32m     14\u001b[0m \u001b[1;33m\u001b[0m\u001b[0m\n\u001b[1;32m---> 15\u001b[1;33m         \u001b[0mclear\u001b[0m\u001b[1;33m,\u001b[0m \u001b[0mindex\u001b[0m \u001b[1;33m=\u001b[0m \u001b[0mself\u001b[0m\u001b[1;33m.\u001b[0m\u001b[0mfind_space\u001b[0m\u001b[1;33m(\u001b[0m\u001b[0mrect_from\u001b[0m\u001b[1;33m,\u001b[0m \u001b[0mrect_on\u001b[0m\u001b[1;33m)\u001b[0m\u001b[1;33m\u001b[0m\u001b[0m\n\u001b[0m\u001b[0;32m     16\u001b[0m         \u001b[1;31m#find space for rect from on rect on\u001b[0m\u001b[1;33m\u001b[0m\u001b[1;33m\u001b[0m\u001b[0m\n\u001b[0;32m     17\u001b[0m         \u001b[1;32mif\u001b[0m \u001b[1;32mnot\u001b[0m \u001b[0mclear\u001b[0m\u001b[1;33m:\u001b[0m\u001b[1;33m\u001b[0m\u001b[0m\n",
      "\u001b[1;31mTypeError\u001b[0m: 'bool' object is not iterable"
     ]
    }
   ],
   "source": [
    "print(table.grid)\n",
    "table.put_on('b1', 'b2')\n",
    "print(table.grid)"
   ]
  },
  {
   "cell_type": "code",
   "execution_count": 305,
   "metadata": {},
   "outputs": [
    {
     "data": {
      "text/plain": [
       "'[Rectangle(d2,1,2,green), 0, 0, 0]'"
      ]
     },
     "execution_count": 305,
     "metadata": {},
     "output_type": "execute_result"
    }
   ],
   "source": [
    "d1 = Rectangle('d1', 4, 4, 'red')\n",
    "d2 = Rectangle('d2', 1, 2, 'green')\n",
    "d1.grid.place_rect(d2,0)\n",
    "d1.print_grid()"
   ]
  },
  {
   "cell_type": "code",
   "execution_count": 306,
   "metadata": {},
   "outputs": [
    {
     "data": {
      "text/plain": [
       "(3, 1)"
      ]
     },
     "execution_count": 306,
     "metadata": {},
     "output_type": "execute_result"
    }
   ],
   "source": [
    "d1.biggest_left_over_width()"
   ]
  },
  {
   "cell_type": "code",
   "execution_count": 236,
   "metadata": {},
   "outputs": [
    {
     "name": "stdout",
     "output_type": "stream",
     "text": [
      "hi\n"
     ]
    }
   ],
   "source": [
    "if 'b1' in list(map(lambda x: x.name, [b1,b2,c1])):\n",
    "    print('hi')"
   ]
  },
  {
   "cell_type": "code",
   "execution_count": 433,
   "metadata": {},
   "outputs": [],
   "source": [
    "class Table(Rectangle):\n",
    "    def __init__(self, n):\n",
    "        super().__init__('table', n, 1, 'black')\n",
    "\n",
    "    def put_on(self, rect_name_from, rect_name_on):\n",
    "        #finding the way to each rect and savining them\n",
    "        self.rec_name_from_way = self.find_rect(rect_name_from)\n",
    "        self.rec_name_from_way.insert(0,self)\n",
    "        self.rec_name_on_way = self.find_rect(rect_name_on)\n",
    "        self.rec_name_on_way.insert(0,self)\n",
    "        print(self.rec_name_from_way, self.rec_name_on_way)\n",
    "        rect_from = self.rec_name_from_way[-1]\n",
    "        rect_on = self.rec_name_on_way[-1]\n",
    "        \n",
    "        clear, index = self.find_space(rect_from, rect_on)\n",
    "        #find space for rect from on rect on\n",
    "        if not clear:\n",
    "            return 'can\\'t do that'\n",
    "        #clear the top of rect to move\n",
    "        self.clear_top(rect_from)\n",
    "        print(rect_from)\n",
    "        self.move(rect_from, self.rec_name_from_way[-2], rect_on, index)\n",
    "        \n",
    "    def find_space(self,rect_from, rect_on):\n",
    "        longest_width, beginning_index = rect_on.biggest_left_over_width()\n",
    "        if rect_from.width > longest_width and not rect_from.width > rect_on.width:\n",
    "            self.clear_top(rect_on)\n",
    "            return True, 0\n",
    "        elif rect_from.width <= longest_width:\n",
    "            return True, beginning_index\n",
    "        else:\n",
    "            return False\n",
    "    \n",
    "    def clear_top(self,rect):\n",
    "        for r in rect.grid:\n",
    "            if type(r) == Rectangle:\n",
    "                self.clear_top(r)\n",
    "                self.get_rid_of(r, rect)\n",
    "    \n",
    "    def get_rid_of(self,rect, rect_on):\n",
    "        longest_width, beginning_index = self.grid.biggest_width()\n",
    "        if rect.width <= longest_width:\n",
    "            self.move(rect, rect_on, self, beginning_index)\n",
    "        else:\n",
    "            for r in self.grid:\n",
    "                if type(r) == Rectangle:\n",
    "                    #todo \n",
    "                    pass\n",
    "\n",
    "    def find_rect(self, rect_name_from):\n",
    "        way = []\n",
    "        for r in self.grid:\n",
    "            if type(r) is Rectangle:\n",
    "                temp_way = r.find_rect(list(way), rect_name_from)\n",
    "                if rect_name_from in list(map(lambda r: r.name, temp_way)):\n",
    "                    way = temp_way\n",
    "                    break\n",
    "        return way\n",
    "    \n",
    "    def grasp(self, rect, rect_on):\n",
    "        self.grasped = rect\n",
    "        rect_on.remove_rect(rect)\n",
    "    def ungrasp(self):\n",
    "        self.grasped = None\n",
    "    \n",
    "    def move(self, rect_to_move, rect_currently_on, rect_to_move_on, index_of_rect):\n",
    "        self.grasp(rect_to_move, rect_currently_on)\n",
    "        rect_to_move_on.grid.place_rect(rect_to_move, index_of_rect)\n",
    "        self.ungrasp()"
   ]
  },
  {
   "cell_type": "code",
   "execution_count": 301,
   "metadata": {},
   "outputs": [
    {
     "name": "stdout",
     "output_type": "stream",
     "text": [
      "[(4, 0), (5, 0), (6, 0), (7, 0)]\n",
      "4\n",
      "7\n"
     ]
    }
   ],
   "source": [
    "import itertools,operator\n",
    "A = [0,0,Rectangle('a', 2,2,'g'),1, 0, 0,0,0]\n",
    "r = max((list(y) for (x,y) in itertools.groupby((enumerate(A)), operator.itemgetter(1)) if x == 0), key=len)\n",
    "print(r)\n",
    "print(r[0][0]) # prints 12\n",
    "print(r[-1][0]) # prints 19"
   ]
  },
  {
   "cell_type": "code",
   "execution_count": null,
   "metadata": {
    "collapsed": true
   },
   "outputs": [],
   "source": []
  }
 ],
 "metadata": {
  "kernelspec": {
   "display_name": "Python 3",
   "language": "python",
   "name": "python3"
  },
  "language_info": {
   "codemirror_mode": {
    "name": "ipython",
    "version": 3
   },
   "file_extension": ".py",
   "mimetype": "text/x-python",
   "name": "python",
   "nbconvert_exporter": "python",
   "pygments_lexer": "ipython3",
   "version": "3.6.1"
  }
 },
 "nbformat": 4,
 "nbformat_minor": 2
}
