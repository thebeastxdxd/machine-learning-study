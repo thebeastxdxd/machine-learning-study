{
 "cells": [
  {
   "cell_type": "code",
   "execution_count": 14,
   "metadata": {},
   "outputs": [],
   "source": [
    "import numpy as np\n",
    "import matplotlib.pyplot as plt\n",
    "import random\n",
    "\n",
    "%matplotlib inline"
   ]
  },
  {
   "cell_type": "code",
   "execution_count": 15,
   "metadata": {},
   "outputs": [],
   "source": [
    "def flip(N):\n",
    "    return [random.random() for x in range(N)]"
   ]
  },
  {
   "cell_type": "code",
   "execution_count": 16,
   "metadata": {},
   "outputs": [],
   "source": [
    "def sample(N):\n",
    "    return [np.mean(flip(N)) for x in range(N)]"
   ]
  },
  {
   "cell_type": "code",
   "execution_count": 17,
   "metadata": {},
   "outputs": [],
   "source": [
    "s = sample(1000)"
   ]
  },
  {
   "cell_type": "code",
   "execution_count": 18,
   "metadata": {},
   "outputs": [
    {
     "data": {
      "text/plain": [
       "(array([  2.,   1.,   6.,  10.,  15.,  17.,  26.,  33.,  48.,  57.,  51.,\n",
       "         80.,  88.,  73.,  93.,  84.,  59.,  59.,  42.,  42.,  40.,  28.,\n",
       "         19.,   8.,   7.,   4.,   3.,   3.,   0.,   2.]),\n",
       " array([ 0.47350277,  0.47538232,  0.47726188,  0.47914143,  0.48102099,\n",
       "         0.48290054,  0.4847801 ,  0.48665965,  0.4885392 ,  0.49041876,\n",
       "         0.49229831,  0.49417787,  0.49605742,  0.49793697,  0.49981653,\n",
       "         0.50169608,  0.50357564,  0.50545519,  0.50733475,  0.5092143 ,\n",
       "         0.51109385,  0.51297341,  0.51485296,  0.51673252,  0.51861207,\n",
       "         0.52049162,  0.52237118,  0.52425073,  0.52613029,  0.52800984,\n",
       "         0.5298894 ]),\n",
       " <a list of 30 Patch objects>)"
      ]
     },
     "execution_count": 18,
     "metadata": {},
     "output_type": "execute_result"
    },
    {
     "data": {
      "image/png": "[encoded data removed]",
      "text/plain": [
       "<matplotlib.figure.Figure at 0x1b6d87845c0>"
      ]
     },
     "metadata": {},
     "output_type": "display_data"
    }
   ],
   "source": [
    "fig, ax = plt.subplots(figsize=(12,8))\n",
    "ax.set(ylabel='y', xlabel='x')\n",
    "ax.hist(s, bins=30)"
   ]
  },
  {
   "cell_type": "code",
   "execution_count": 19,
   "metadata": {},
   "outputs": [],
   "source": [
    "weight=[80.,85,200,85,69,65,68,66,85,72,85,82,65,105,75,80,\n",
    "    70,74,72,70,80,60,80,75,80,78,63,88.65,90,89,91,1.00E+22,\n",
    "    75,75,90,80,75,-1.00E+22,-1.00E+22,-1.00E+22,86.54,67,70,92,70,76,81,93,\n",
    "    70,85,75,76,79,89,80,73.6,80,80,120,80,70,110,65,80,\n",
    "    250,80,85,81,80,85,80,90,85,85,82,83,80,160,75,75,\n",
    "    80,85,90,80,89,70,90,100,70,80,77,95,120,250,60]"
   ]
  },
  {
   "cell_type": "code",
   "execution_count": null,
   "metadata": {},
   "outputs": [],
   "source": [
    "def calculate_weight(data, z):\n",
    "    data.sort()\n",
    "    \n",
    "    \n",
    "    \n",
    "\n",
    "    "
   ]
  },
  {
   "cell_type": "code",
   "execution_count": 22,
   "metadata": {},
   "outputs": [
    {
     "data": {
      "text/plain": [
       "2.0"
      ]
     },
     "execution_count": 22,
     "metadata": {},
     "output_type": "execute_result"
    }
   ],
   "source": [
    "a = [1,2,3,4]\n",
    "np.round(np.median(a))"
   ]
  },
  {
   "cell_type": "code",
   "execution_count": null,
   "metadata": {},
   "outputs": [],
   "source": []
  }
 ],
 "metadata": {
  "kernelspec": {
   "display_name": "Python 3",
   "language": "python",
   "name": "python3"
  },
  "language_info": {
   "codemirror_mode": {
    "name": "ipython",
    "version": 3
   },
   "file_extension": ".py",
   "mimetype": "text/x-python",
   "name": "python",
   "nbconvert_exporter": "python",
   "pygments_lexer": "ipython3",
   "version": "3.6.1"
  }
 },
 "nbformat": 4,
 "nbformat_minor": 2
}
